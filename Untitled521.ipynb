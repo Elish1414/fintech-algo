{
  "nbformat": 4,
  "nbformat_minor": 0,
  "metadata": {
    "colab": {
      "provenance": [],
      "authorship_tag": "ABX9TyPCOD7bL79y7ut/JQcDoctV",
      "include_colab_link": true
    },
    "kernelspec": {
      "name": "python3",
      "display_name": "Python 3"
    },
    "language_info": {
      "name": "python"
    }
  },
  "cells": [
    {
      "cell_type": "markdown",
      "metadata": {
        "id": "view-in-github",
        "colab_type": "text"
      },
      "source": [
        "<a href=\"https://colab.research.google.com/github/Elish1414/fintech-algo/blob/main/Untitled521.ipynb\" target=\"_parent\"><img src=\"https://colab.research.google.com/assets/colab-badge.svg\" alt=\"Open In Colab\"/></a>"
      ]
    },
    {
      "cell_type": "code",
      "execution_count": null,
      "metadata": {
        "id": "td6ggjhTZDn_"
      },
      "outputs": [],
      "source": [
        "import threading\n",
        "import time\n",
        "import queue"
      ]
    },
    {
      "cell_type": "code",
      "source": [
        "class OrderBook:\n",
        "    def __init__(self):\n",
        "        self.buy_orders = []\n",
        "        self.sell_orders = []\n",
        "\n",
        "    def add_order(self, order_type, price, quantity):\n",
        "        order = {\"type\": order_type, \"price\": price, \"quantity\": quantity}\n",
        "        if order_type == \"buy\":\n",
        "            self.buy_orders.append(order)\n",
        "            self.buy_orders.sort(key=lambda x: -x[\"price\"])  # Highest price first\n",
        "        else:\n",
        "            self.sell_orders.append(order)\n",
        "            self.sell_orders.sort(key=lambda x: x[\"price\"])  # Lowest price first\n",
        "        self.match_orders()\n",
        "\n",
        "    def match_orders(self):\n",
        "        while self.buy_orders and self.sell_orders and self.buy_orders[0][\"price\"] >= self.sell_orders[0][\"price\"]:\n",
        "            buy_order = self.buy_orders.pop(0)\n",
        "            sell_order = self.sell_orders.pop(0)\n",
        "            print(f\"Matched Order: {buy_order} with {sell_order}\")"
      ],
      "metadata": {
        "id": "HU45V6C4ZINX"
      },
      "execution_count": null,
      "outputs": []
    },
    {
      "cell_type": "code",
      "source": [
        "# Simulated Transaction Processing\n",
        "def process_transactions(order_book, order_queue):\n",
        "    while True:\n",
        "        if not order_queue.empty():\n",
        "            order = order_queue.get()\n",
        "            order_book.add_order(*order)\n",
        "        time.sleep(0.01)"
      ],
      "metadata": {
        "id": "tCfk9wB8ZNWZ"
      },
      "execution_count": null,
      "outputs": []
    },
    {
      "cell_type": "code",
      "source": [
        "order_book = OrderBook()\n",
        "order_queue = queue.Queue()"
      ],
      "metadata": {
        "id": "hpRZbAdIZXjS"
      },
      "execution_count": null,
      "outputs": []
    },
    {
      "cell_type": "code",
      "source": [
        "\n",
        "processor = threading.Thread(target=process_transactions, args=(order_book, order_queue))\n",
        "processor.start()\n"
      ],
      "metadata": {
        "id": "M2e36OT7ZaFE"
      },
      "execution_count": null,
      "outputs": []
    },
    {
      "cell_type": "code",
      "source": [
        "# Add sample orders\n",
        "order_queue.put((\"buy\", 100, 1))\n",
        "order_queue.put((\"sell\", 99, 1))\n",
        "\n",
        "time.sleep(2)"
      ],
      "metadata": {
        "colab": {
          "base_uri": "https://localhost:8080/"
        },
        "id": "--GubTjeZcEh",
        "outputId": "b7bb6241-ac0f-4426-f449-e91e96d1c947"
      },
      "execution_count": null,
      "outputs": [
        {
          "output_type": "stream",
          "name": "stdout",
          "text": [
            "Matched Order: {'type': 'buy', 'price': 100, 'quantity': 1} with {'type': 'sell', 'price': 99, 'quantity': 1}\n"
          ]
        }
      ]
    },
    {
      "cell_type": "code",
      "source": [
        "import numpy as np\n",
        "from sklearn.ensemble import IsolationForest\n",
        "\n",
        "# Simulated transaction data\n",
        "transactions = np.array([\n",
        "    [100, 1],  # (amount, frequency)\n",
        "    [200, 2],\n",
        "    [5000, 10],  # Fraudulent\n",
        "    [50, 1]\n",
        "])\n",
        "\n",
        "# Train Isolation Forest for anomaly detection\n",
        "model = IsolationForest(contamination=0.1)\n",
        "model.fit(transactions)\n",
        "\n",
        "def detect_fraud(transaction):\n",
        "    result = model.predict([transaction])\n",
        "    return \"Fraudulent\" if result[0] == -1 else \"Legit\"\n",
        "\n",
        "# Test fraud detection\n",
        "test_txn = [5000, 10]  # High-risk transaction\n",
        "print(f\"Transaction {test_txn} is {detect_fraud(test_txn)}\")"
      ],
      "metadata": {
        "colab": {
          "base_uri": "https://localhost:8080/"
        },
        "id": "HPuHvGPeZeuw",
        "outputId": "cc9c0b45-ca0e-4c79-e38e-eae9d05ddbef"
      },
      "execution_count": null,
      "outputs": [
        {
          "output_type": "stream",
          "name": "stdout",
          "text": [
            "Transaction [5000, 10] is Fraudulent\n"
          ]
        }
      ]
    },
    {
      "cell_type": "code",
      "source": [
        "import numpy as np\n",
        "import tensorflow as tf\n",
        "from tensorflow import keras\n",
        "\n",
        "# Generate fake stock prices\n",
        "np.random.seed(42)\n",
        "prices = np.cumsum(np.random.randn(100)) + 100\n",
        "\n",
        "# Prepare training data with correct shape\n",
        "X_train = np.array([prices[i:i+5] for i in range(len(prices)-5)])\n",
        "y_train = np.array([prices[i+5] for i in range(len(prices)-5)])\n",
        "\n",
        "# Reshape to fit LSTM input (samples, timesteps, features)\n",
        "X_train = X_train.reshape((X_train.shape[0], X_train.shape[1], 1))\n",
        "\n",
        "# Build a simple LSTM model\n",
        "model = keras.Sequential([\n",
        "    keras.layers.LSTM(10, activation=\"relu\", input_shape=(5, 1)),  # Corrected shape\n",
        "    keras.layers.Dense(1)\n",
        "])\n",
        "\n",
        "model.compile(optimizer=\"adam\", loss=\"mse\")\n",
        "model.fit(X_train, y_train, epochs=10, verbose=1)  # Training\n",
        "\n",
        "# Function to predict next price\n",
        "def predict_next_price(last_5_prices):\n",
        "    last_5_prices = np.array(last_5_prices).reshape((1, 5, 1))  # Reshape correctly\n",
        "    return model.predict(last_5_prices)[0][0]\n",
        "\n",
        "# Test prediction\n",
        "print(f\"Next predicted price: {predict_next_price(prices[-5:])}\")\n"
      ],
      "metadata": {
        "colab": {
          "base_uri": "https://localhost:8080/"
        },
        "id": "xSOnWwxwZmyQ",
        "outputId": "b3e366eb-a5f6-4670-9f28-648d93e8bc74"
      },
      "execution_count": null,
      "outputs": [
        {
          "output_type": "stream",
          "name": "stdout",
          "text": [
            "Epoch 1/10\n"
          ]
        },
        {
          "output_type": "stream",
          "name": "stderr",
          "text": [
            "/usr/local/lib/python3.11/dist-packages/keras/src/layers/rnn/rnn.py:200: UserWarning: Do not pass an `input_shape`/`input_dim` argument to a layer. When using Sequential models, prefer using an `Input(shape)` object as the first layer in the model instead.\n",
            "  super().__init__(**kwargs)\n"
          ]
        },
        {
          "output_type": "stream",
          "name": "stdout",
          "text": [
            "\u001b[1m3/3\u001b[0m \u001b[32m━━━━━━━━━━━━━━━━━━━━\u001b[0m\u001b[37m\u001b[0m \u001b[1m2s\u001b[0m 17ms/step - loss: 20337.5781\n",
            "Epoch 2/10\n",
            "\u001b[1m3/3\u001b[0m \u001b[32m━━━━━━━━━━━━━━━━━━━━\u001b[0m\u001b[37m\u001b[0m \u001b[1m0s\u001b[0m 13ms/step - loss: 18164.4473\n",
            "Epoch 3/10\n",
            "\u001b[1m3/3\u001b[0m \u001b[32m━━━━━━━━━━━━━━━━━━━━\u001b[0m\u001b[37m\u001b[0m \u001b[1m0s\u001b[0m 13ms/step - loss: 16244.8379\n",
            "Epoch 4/10\n",
            "\u001b[1m3/3\u001b[0m \u001b[32m━━━━━━━━━━━━━━━━━━━━\u001b[0m\u001b[37m\u001b[0m \u001b[1m0s\u001b[0m 16ms/step - loss: 14261.7676\n",
            "Epoch 5/10\n",
            "\u001b[1m3/3\u001b[0m \u001b[32m━━━━━━━━━━━━━━━━━━━━\u001b[0m\u001b[37m\u001b[0m \u001b[1m0s\u001b[0m 13ms/step - loss: 12207.8848\n",
            "Epoch 6/10\n",
            "\u001b[1m3/3\u001b[0m \u001b[32m━━━━━━━━━━━━━━━━━━━━\u001b[0m\u001b[37m\u001b[0m \u001b[1m0s\u001b[0m 14ms/step - loss: 10114.4033\n",
            "Epoch 7/10\n",
            "\u001b[1m3/3\u001b[0m \u001b[32m━━━━━━━━━━━━━━━━━━━━\u001b[0m\u001b[37m\u001b[0m \u001b[1m0s\u001b[0m 13ms/step - loss: 8272.2607\n",
            "Epoch 8/10\n",
            "\u001b[1m3/3\u001b[0m \u001b[32m━━━━━━━━━━━━━━━━━━━━\u001b[0m\u001b[37m\u001b[0m \u001b[1m0s\u001b[0m 16ms/step - loss: 6549.1191\n",
            "Epoch 9/10\n",
            "\u001b[1m3/3\u001b[0m \u001b[32m━━━━━━━━━━━━━━━━━━━━\u001b[0m\u001b[37m\u001b[0m \u001b[1m0s\u001b[0m 13ms/step - loss: 5115.5371\n",
            "Epoch 10/10\n",
            "\u001b[1m3/3\u001b[0m \u001b[32m━━━━━━━━━━━━━━━━━━━━\u001b[0m\u001b[37m\u001b[0m \u001b[1m0s\u001b[0m 13ms/step - loss: 5154.5796\n",
            "\u001b[1m1/1\u001b[0m \u001b[32m━━━━━━━━━━━━━━━━━━━━\u001b[0m\u001b[37m\u001b[0m \u001b[1m0s\u001b[0m 204ms/step\n",
            "Next predicted price: 21.10248374938965\n"
          ]
        }
      ]
    },
    {
      "cell_type": "code",
      "source": [
        "model.save(\"market_prediction_model.h5\")\n"
      ],
      "metadata": {
        "colab": {
          "base_uri": "https://localhost:8080/"
        },
        "id": "G0cFcG-tZnYC",
        "outputId": "30e6c94f-336d-4cf0-c757-7fdf49315589"
      },
      "execution_count": null,
      "outputs": [
        {
          "output_type": "stream",
          "name": "stderr",
          "text": [
            "WARNING:absl:You are saving your model as an HDF5 file via `model.save()` or `keras.saving.save_model(model)`. This file format is considered legacy. We recommend using instead the native Keras format, e.g. `model.save('my_model.keras')` or `keras.saving.save_model(model, 'my_model.keras')`. \n"
          ]
        }
      ]
    },
    {
      "cell_type": "code",
      "source": [
        "from google.colab import drive\n",
        "drive.mount('/content/drive')\n"
      ],
      "metadata": {
        "colab": {
          "base_uri": "https://localhost:8080/"
        },
        "id": "Mj5tWwr6aJ3g",
        "outputId": "4fb37d59-4350-484b-8b11-60e03e695432"
      },
      "execution_count": null,
      "outputs": [
        {
          "output_type": "stream",
          "name": "stdout",
          "text": [
            "Mounted at /content/drive\n"
          ]
        }
      ]
    },
    {
      "cell_type": "code",
      "source": [
        "!cp market_prediction_model.h5 /content/drive/MyDrive/\n"
      ],
      "metadata": {
        "id": "Vxog2uHRaPzI"
      },
      "execution_count": null,
      "outputs": []
    },
    {
      "cell_type": "code",
      "source": [],
      "metadata": {
        "id": "lkK8NenKbCYg"
      },
      "execution_count": null,
      "outputs": []
    }
  ]
}